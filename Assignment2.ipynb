{
  "nbformat": 4,
  "nbformat_minor": 0,
  "metadata": {
    "colab": {
      "provenance": []
    },
    "kernelspec": {
      "name": "python3",
      "display_name": "Python 3"
    },
    "language_info": {
      "name": "python"
    }
  },
  "cells": [
    {
      "cell_type": "code",
      "execution_count": 1,
      "metadata": {
        "colab": {
          "base_uri": "https://localhost:8080/"
        },
        "id": "m20sJbnBI2B_",
        "outputId": "64a83960-1c15-465f-8b49-4ac51c2df0f3"
      },
      "outputs": [
        {
          "output_type": "stream",
          "name": "stdout",
          "text": [
            "* \n",
            "* * \n",
            "* * * \n",
            "* * * * \n",
            "* * * * * \n",
            "* * * * \n",
            "* * * \n",
            "* * \n",
            "* \n"
          ]
        }
      ],
      "source": [
        "n = 1                    # first half of the pattern was printed using the loop index 'n' and then incremented by 1 in each iteration using 'n +=1'\n",
        "for i in range(5):\n",
        "    for j in range(n):\n",
        "        print(\"*\", end=' ')\n",
        "    n += 1\n",
        "    print()\n",
        "\n",
        "n = 4  # second half of the pattern was printed using the index 'n' and then decremented in each iteration using 'n -= 1'\n",
        "for i in range(4):\n",
        "    for j in range(n):\n",
        "        print(\"*\", end=' ')\n",
        "    n -= 1\n",
        "    print()"
      ]
    },
    {
      "cell_type": "code",
      "source": [
        "my_list = [10, 20, 30, 40, 50, 60, 70, 80, 90, 100]\n",
        "\n",
        "for i in range(1, len(my_list), 2): # we are using a 'range()' function to generate a sequence of odd indexes, this function takes three augments start,stop and step\n",
        "    print(my_list[i])"
      ],
      "metadata": {
        "colab": {
          "base_uri": "https://localhost:8080/"
        },
        "id": "pu6A8d2kJHPp",
        "outputId": "cfd34c32-d9fb-4770-d0ec-532f93e3aaf0"
      },
      "execution_count": 2,
      "outputs": [
        {
          "output_type": "stream",
          "name": "stdout",
          "text": [
            "20\n",
            "40\n",
            "60\n",
            "80\n",
            "100\n"
          ]
        }
      ]
    },
    {
      "cell_type": "code",
      "source": [
        "x = [23, 'Python', 23.98] # declaring 'x' with some elements\n",
        "types = []\n",
        "\n",
        "for i in x:\n",
        "    types.append(type(i))  # using the 'type()' function to get the type of each element\n",
        "\n",
        "print(x)\n",
        "print(types)"
      ],
      "metadata": {
        "colab": {
          "base_uri": "https://localhost:8080/"
        },
        "id": "y8OPSpmGJL4V",
        "outputId": "a4fb69a6-3deb-42f4-f1a5-5aaef3040f65"
      },
      "execution_count": 3,
      "outputs": [
        {
          "output_type": "stream",
          "name": "stdout",
          "text": [
            "[23, 'Python', 23.98]\n",
            "[<class 'int'>, <class 'str'>, <class 'float'>]\n"
          ]
        }
      ]
    },
    {
      "cell_type": "code",
      "source": [
        "def unique_list(lst): # we are defining a function that takes list '1st' as input\n",
        "    unique = []    # declaring an empty list 'unique' that stores only the unique items\n",
        "    for i in lst:\n",
        "        if i not in unique:  # using the ' not in' operator we check whether the element already exists in the unique list\n",
        "            unique.append(i)\n",
        "    return unique\n",
        "\n",
        "# Example usage\n",
        "lst = [1, 2, 3, 3, 3, 3, 4, 5]\n",
        "unique_lst = unique_list(lst)\n",
        "print(unique_lst)\n"
      ],
      "metadata": {
        "colab": {
          "base_uri": "https://localhost:8080/"
        },
        "id": "Cq4--Kw7Jeqf",
        "outputId": "ed473ad6-39dd-4775-fa16-99100cea1d03"
      },
      "execution_count": 4,
      "outputs": [
        {
          "output_type": "stream",
          "name": "stdout",
          "text": [
            "[1, 2, 3, 4, 5]\n"
          ]
        }
      ]
    },
    {
      "cell_type": "code",
      "source": [
        "def count_case(s):    # we are defining a funcion that takes string 's' as input\n",
        "    upper_count = 0   # declaring two variables to store the upper_count and lower_count\n",
        "    lower_count = 0\n",
        "    for ch in s:      # using for loop to iterate through each character in a 's'\n",
        "        if ch.islower():\n",
        "            lower_count += 1\n",
        "        elif ch.isupper():\n",
        "            upper_count += 1\n",
        "    print(\"No. of Upper-case characters:\", upper_count)\n",
        "    print(\"No. of Lower-case characters:\", lower_count)\n",
        "\n",
        "# Example usage\n",
        "s = 'The quick Brow Fox'\n",
        "count_case(s)  # calling the function with the string 's'"
      ],
      "metadata": {
        "colab": {
          "base_uri": "https://localhost:8080/"
        },
        "id": "iw9LaFvPJkzS",
        "outputId": "698ebe23-966c-4d9e-e20f-3e871b1ae451"
      },
      "execution_count": 5,
      "outputs": [
        {
          "output_type": "stream",
          "name": "stdout",
          "text": [
            "No. of Upper-case characters: 3\n",
            "No. of Lower-case characters: 12\n"
          ]
        }
      ]
    }
  ]
}